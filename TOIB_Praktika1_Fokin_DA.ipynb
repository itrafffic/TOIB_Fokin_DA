import re

PASSWORD_RULES = [
    {"length": 8, "message": "Пароль должен быть не менее 8 символов"},
    {"regex": r"[A-Z]", "message": "Пароль должен содержать заглавную букву"},
    {"regex": r"[a-z]", "message": "Пароль должен содержать строчную букву"},
    {"regex": r"[0-9]", "message": "Пароль должен содержать цифру"},
    {"regex": r"[!@#$%&]", "message": "Пароль должен содержать спецсимвол (!@#$%)"}
]

def validate_password(password):
    for rule in PASSWORD_RULES:
        if "length" in rule and len(password) < rule["length"]:
            return False, rule["message"]
        elif "regex" in rule and not re.search(rule["regex"], password):
            return False, rule["message"]
    return True, "Действительный пароль"

password = input("Введите пароль: ")
valid, message = validate_password(password)
print(message)  